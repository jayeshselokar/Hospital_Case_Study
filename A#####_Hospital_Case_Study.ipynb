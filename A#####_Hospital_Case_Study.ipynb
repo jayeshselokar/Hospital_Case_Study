{
 "cells": [
  {
   "cell_type": "markdown",
   "id": "c7b6a294",
   "metadata": {},
   "source": [
    "## Business Case A****** Hospitals\n",
    "\n",
    "### Context\n",
    "\n",
    "A***** Hospitals was established in 1983, renowned as the architect of modern healthcare in India. As the nation's first corporate hospital, A***** Hospitals is acclaimed for pioneering the private healthcare revolution in the country.\n",
    "\n",
    "\n",
    "As a data scientist working at A***** 24/7, the ultimate goal is to tease out meaningful and actionable insights from Patient-level collected data.\n",
    "\n",
    "You can help A***** hospitals to be more efficient, to influence diagnostic and treatment processes, to map the spread of a pandemic.\n",
    "\n",
    "\n",
    "One of the best examples of data scientists making a meaningful difference at a global level is in the response to the COVID-19 pandemic, where they have improved information collection, provided ongoing and accurate estimates of infection spread and health system demand, and assessed the effectiveness of government policies.\n",
    "\n",
    "### To Identify,\n",
    "\n",
    ">>Requirement: \n",
    "\n",
    "In the event of Covid 19 we need to identify the paramenters of Delhi patients for their hospitalization \n",
    "\n",
    "* Which variables are significant in predicting the reason for hospitalization for different regions\n",
    "\n",
    "\n",
    "* How well some variables like viral load, smoking, Severity Level describe the hospitalization charges"
   ]
  },
  {
   "cell_type": "code",
   "execution_count": 2,
   "id": "5aed369a",
   "metadata": {},
   "outputs": [],
   "source": [
    "import pandas as pd\n",
    "import numpy as np\n",
    "import matplotlib.pyplot as plt\n",
    "import seaborn as sns"
   ]
  },
  {
   "cell_type": "code",
   "execution_count": 3,
   "id": "d876390e",
   "metadata": {},
   "outputs": [],
   "source": [
    "df = pd.read_csv(\"D:\\DSML\\scaler_apollo_hospitals.csv\")"
   ]
  },
  {
   "cell_type": "code",
   "execution_count": 5,
   "id": "e18a490b",
   "metadata": {},
   "outputs": [
    {
     "data": {
      "text/plain": [
       "(1338, 8)"
      ]
     },
     "execution_count": 5,
     "metadata": {},
     "output_type": "execute_result"
    }
   ],
   "source": [
    "df.shape"
   ]
  },
  {
   "cell_type": "code",
   "execution_count": 6,
   "id": "3860aabd",
   "metadata": {},
   "outputs": [
    {
     "data": {
      "text/html": [
       "<div>\n",
       "<style scoped>\n",
       "    .dataframe tbody tr th:only-of-type {\n",
       "        vertical-align: middle;\n",
       "    }\n",
       "\n",
       "    .dataframe tbody tr th {\n",
       "        vertical-align: top;\n",
       "    }\n",
       "\n",
       "    .dataframe thead th {\n",
       "        text-align: right;\n",
       "    }\n",
       "</style>\n",
       "<table border=\"1\" class=\"dataframe\">\n",
       "  <thead>\n",
       "    <tr style=\"text-align: right;\">\n",
       "      <th></th>\n",
       "      <th>Unnamed: 0</th>\n",
       "      <th>age</th>\n",
       "      <th>sex</th>\n",
       "      <th>smoker</th>\n",
       "      <th>region</th>\n",
       "      <th>viral load</th>\n",
       "      <th>severity level</th>\n",
       "      <th>hospitalization charges</th>\n",
       "    </tr>\n",
       "  </thead>\n",
       "  <tbody>\n",
       "    <tr>\n",
       "      <th>0</th>\n",
       "      <td>0</td>\n",
       "      <td>19</td>\n",
       "      <td>female</td>\n",
       "      <td>yes</td>\n",
       "      <td>southwest</td>\n",
       "      <td>9.30</td>\n",
       "      <td>0</td>\n",
       "      <td>42212</td>\n",
       "    </tr>\n",
       "    <tr>\n",
       "      <th>1</th>\n",
       "      <td>1</td>\n",
       "      <td>18</td>\n",
       "      <td>male</td>\n",
       "      <td>no</td>\n",
       "      <td>southeast</td>\n",
       "      <td>11.26</td>\n",
       "      <td>1</td>\n",
       "      <td>4314</td>\n",
       "    </tr>\n",
       "    <tr>\n",
       "      <th>2</th>\n",
       "      <td>2</td>\n",
       "      <td>28</td>\n",
       "      <td>male</td>\n",
       "      <td>no</td>\n",
       "      <td>southeast</td>\n",
       "      <td>11.00</td>\n",
       "      <td>3</td>\n",
       "      <td>11124</td>\n",
       "    </tr>\n",
       "    <tr>\n",
       "      <th>3</th>\n",
       "      <td>3</td>\n",
       "      <td>33</td>\n",
       "      <td>male</td>\n",
       "      <td>no</td>\n",
       "      <td>northwest</td>\n",
       "      <td>7.57</td>\n",
       "      <td>0</td>\n",
       "      <td>54961</td>\n",
       "    </tr>\n",
       "    <tr>\n",
       "      <th>4</th>\n",
       "      <td>4</td>\n",
       "      <td>32</td>\n",
       "      <td>male</td>\n",
       "      <td>no</td>\n",
       "      <td>northwest</td>\n",
       "      <td>9.63</td>\n",
       "      <td>0</td>\n",
       "      <td>9667</td>\n",
       "    </tr>\n",
       "  </tbody>\n",
       "</table>\n",
       "</div>"
      ],
      "text/plain": [
       "   Unnamed: 0  age     sex smoker     region  viral load  severity level  \\\n",
       "0           0   19  female    yes  southwest        9.30               0   \n",
       "1           1   18    male     no  southeast       11.26               1   \n",
       "2           2   28    male     no  southeast       11.00               3   \n",
       "3           3   33    male     no  northwest        7.57               0   \n",
       "4           4   32    male     no  northwest        9.63               0   \n",
       "\n",
       "   hospitalization charges  \n",
       "0                    42212  \n",
       "1                     4314  \n",
       "2                    11124  \n",
       "3                    54961  \n",
       "4                     9667  "
      ]
     },
     "execution_count": 6,
     "metadata": {},
     "output_type": "execute_result"
    }
   ],
   "source": [
    "df.head()"
   ]
  },
  {
   "cell_type": "code",
   "execution_count": 7,
   "id": "65e0007b",
   "metadata": {},
   "outputs": [
    {
     "data": {
      "text/html": [
       "<div>\n",
       "<style scoped>\n",
       "    .dataframe tbody tr th:only-of-type {\n",
       "        vertical-align: middle;\n",
       "    }\n",
       "\n",
       "    .dataframe tbody tr th {\n",
       "        vertical-align: top;\n",
       "    }\n",
       "\n",
       "    .dataframe thead th {\n",
       "        text-align: right;\n",
       "    }\n",
       "</style>\n",
       "<table border=\"1\" class=\"dataframe\">\n",
       "  <thead>\n",
       "    <tr style=\"text-align: right;\">\n",
       "      <th></th>\n",
       "      <th>Unnamed: 0</th>\n",
       "      <th>age</th>\n",
       "      <th>sex</th>\n",
       "      <th>smoker</th>\n",
       "      <th>region</th>\n",
       "      <th>viral load</th>\n",
       "      <th>severity level</th>\n",
       "      <th>hospitalization charges</th>\n",
       "    </tr>\n",
       "  </thead>\n",
       "  <tbody>\n",
       "    <tr>\n",
       "      <th>count</th>\n",
       "      <td>1338.000000</td>\n",
       "      <td>1338.000000</td>\n",
       "      <td>1338</td>\n",
       "      <td>1338</td>\n",
       "      <td>1338</td>\n",
       "      <td>1338.000000</td>\n",
       "      <td>1338.000000</td>\n",
       "      <td>1338.000000</td>\n",
       "    </tr>\n",
       "    <tr>\n",
       "      <th>unique</th>\n",
       "      <td>NaN</td>\n",
       "      <td>NaN</td>\n",
       "      <td>2</td>\n",
       "      <td>2</td>\n",
       "      <td>4</td>\n",
       "      <td>NaN</td>\n",
       "      <td>NaN</td>\n",
       "      <td>NaN</td>\n",
       "    </tr>\n",
       "    <tr>\n",
       "      <th>top</th>\n",
       "      <td>NaN</td>\n",
       "      <td>NaN</td>\n",
       "      <td>male</td>\n",
       "      <td>no</td>\n",
       "      <td>southeast</td>\n",
       "      <td>NaN</td>\n",
       "      <td>NaN</td>\n",
       "      <td>NaN</td>\n",
       "    </tr>\n",
       "    <tr>\n",
       "      <th>freq</th>\n",
       "      <td>NaN</td>\n",
       "      <td>NaN</td>\n",
       "      <td>676</td>\n",
       "      <td>1064</td>\n",
       "      <td>364</td>\n",
       "      <td>NaN</td>\n",
       "      <td>NaN</td>\n",
       "      <td>NaN</td>\n",
       "    </tr>\n",
       "    <tr>\n",
       "      <th>mean</th>\n",
       "      <td>668.500000</td>\n",
       "      <td>39.207025</td>\n",
       "      <td>NaN</td>\n",
       "      <td>NaN</td>\n",
       "      <td>NaN</td>\n",
       "      <td>10.221233</td>\n",
       "      <td>1.094918</td>\n",
       "      <td>33176.058296</td>\n",
       "    </tr>\n",
       "    <tr>\n",
       "      <th>std</th>\n",
       "      <td>386.391641</td>\n",
       "      <td>14.049960</td>\n",
       "      <td>NaN</td>\n",
       "      <td>NaN</td>\n",
       "      <td>NaN</td>\n",
       "      <td>2.032796</td>\n",
       "      <td>1.205493</td>\n",
       "      <td>30275.029296</td>\n",
       "    </tr>\n",
       "    <tr>\n",
       "      <th>min</th>\n",
       "      <td>0.000000</td>\n",
       "      <td>18.000000</td>\n",
       "      <td>NaN</td>\n",
       "      <td>NaN</td>\n",
       "      <td>NaN</td>\n",
       "      <td>5.320000</td>\n",
       "      <td>0.000000</td>\n",
       "      <td>2805.000000</td>\n",
       "    </tr>\n",
       "    <tr>\n",
       "      <th>25%</th>\n",
       "      <td>334.250000</td>\n",
       "      <td>27.000000</td>\n",
       "      <td>NaN</td>\n",
       "      <td>NaN</td>\n",
       "      <td>NaN</td>\n",
       "      <td>8.762500</td>\n",
       "      <td>0.000000</td>\n",
       "      <td>11851.000000</td>\n",
       "    </tr>\n",
       "    <tr>\n",
       "      <th>50%</th>\n",
       "      <td>668.500000</td>\n",
       "      <td>39.000000</td>\n",
       "      <td>NaN</td>\n",
       "      <td>NaN</td>\n",
       "      <td>NaN</td>\n",
       "      <td>10.130000</td>\n",
       "      <td>1.000000</td>\n",
       "      <td>23455.000000</td>\n",
       "    </tr>\n",
       "    <tr>\n",
       "      <th>75%</th>\n",
       "      <td>1002.750000</td>\n",
       "      <td>51.000000</td>\n",
       "      <td>NaN</td>\n",
       "      <td>NaN</td>\n",
       "      <td>NaN</td>\n",
       "      <td>11.567500</td>\n",
       "      <td>2.000000</td>\n",
       "      <td>41599.500000</td>\n",
       "    </tr>\n",
       "    <tr>\n",
       "      <th>max</th>\n",
       "      <td>1337.000000</td>\n",
       "      <td>64.000000</td>\n",
       "      <td>NaN</td>\n",
       "      <td>NaN</td>\n",
       "      <td>NaN</td>\n",
       "      <td>17.710000</td>\n",
       "      <td>5.000000</td>\n",
       "      <td>159426.000000</td>\n",
       "    </tr>\n",
       "  </tbody>\n",
       "</table>\n",
       "</div>"
      ],
      "text/plain": [
       "         Unnamed: 0          age   sex smoker     region   viral load  \\\n",
       "count   1338.000000  1338.000000  1338   1338       1338  1338.000000   \n",
       "unique          NaN          NaN     2      2          4          NaN   \n",
       "top             NaN          NaN  male     no  southeast          NaN   \n",
       "freq            NaN          NaN   676   1064        364          NaN   \n",
       "mean     668.500000    39.207025   NaN    NaN        NaN    10.221233   \n",
       "std      386.391641    14.049960   NaN    NaN        NaN     2.032796   \n",
       "min        0.000000    18.000000   NaN    NaN        NaN     5.320000   \n",
       "25%      334.250000    27.000000   NaN    NaN        NaN     8.762500   \n",
       "50%      668.500000    39.000000   NaN    NaN        NaN    10.130000   \n",
       "75%     1002.750000    51.000000   NaN    NaN        NaN    11.567500   \n",
       "max     1337.000000    64.000000   NaN    NaN        NaN    17.710000   \n",
       "\n",
       "        severity level  hospitalization charges  \n",
       "count      1338.000000              1338.000000  \n",
       "unique             NaN                      NaN  \n",
       "top                NaN                      NaN  \n",
       "freq               NaN                      NaN  \n",
       "mean          1.094918             33176.058296  \n",
       "std           1.205493             30275.029296  \n",
       "min           0.000000              2805.000000  \n",
       "25%           0.000000             11851.000000  \n",
       "50%           1.000000             23455.000000  \n",
       "75%           2.000000             41599.500000  \n",
       "max           5.000000            159426.000000  "
      ]
     },
     "execution_count": 7,
     "metadata": {},
     "output_type": "execute_result"
    }
   ],
   "source": [
    "df.describe(include=\"all\")"
   ]
  },
  {
   "cell_type": "code",
   "execution_count": 8,
   "id": "53bc1e02",
   "metadata": {},
   "outputs": [
    {
     "data": {
      "text/plain": [
       "Unnamed: 0                 0\n",
       "age                        0\n",
       "sex                        0\n",
       "smoker                     0\n",
       "region                     0\n",
       "viral load                 0\n",
       "severity level             0\n",
       "hospitalization charges    0\n",
       "dtype: int64"
      ]
     },
     "execution_count": 8,
     "metadata": {},
     "output_type": "execute_result"
    }
   ],
   "source": [
    "## lets check for any null values\n",
    "\n",
    "df.isna().sum()"
   ]
  },
  {
   "cell_type": "code",
   "execution_count": 9,
   "id": "0c277a04",
   "metadata": {},
   "outputs": [],
   "source": [
    "## unnamed col does not make any meaning so dropping the column\n",
    "\n",
    "df.drop([\"Unnamed: 0\"], axis = 1, inplace = True)"
   ]
  },
  {
   "cell_type": "code",
   "execution_count": 102,
   "id": "67c95e4b",
   "metadata": {},
   "outputs": [
    {
     "data": {
      "text/html": [
       "<div>\n",
       "<style scoped>\n",
       "    .dataframe tbody tr th:only-of-type {\n",
       "        vertical-align: middle;\n",
       "    }\n",
       "\n",
       "    .dataframe tbody tr th {\n",
       "        vertical-align: top;\n",
       "    }\n",
       "\n",
       "    .dataframe thead th {\n",
       "        text-align: right;\n",
       "    }\n",
       "</style>\n",
       "<table border=\"1\" class=\"dataframe\">\n",
       "  <thead>\n",
       "    <tr style=\"text-align: right;\">\n",
       "      <th></th>\n",
       "      <th>age</th>\n",
       "      <th>sex</th>\n",
       "      <th>smoker</th>\n",
       "      <th>region</th>\n",
       "      <th>viral load</th>\n",
       "      <th>severity level</th>\n",
       "      <th>hospitalization charges</th>\n",
       "    </tr>\n",
       "  </thead>\n",
       "  <tbody>\n",
       "    <tr>\n",
       "      <th>0</th>\n",
       "      <td>19</td>\n",
       "      <td>female</td>\n",
       "      <td>yes</td>\n",
       "      <td>southwest</td>\n",
       "      <td>9.30</td>\n",
       "      <td>0</td>\n",
       "      <td>42212</td>\n",
       "    </tr>\n",
       "    <tr>\n",
       "      <th>1</th>\n",
       "      <td>18</td>\n",
       "      <td>male</td>\n",
       "      <td>no</td>\n",
       "      <td>southeast</td>\n",
       "      <td>11.26</td>\n",
       "      <td>1</td>\n",
       "      <td>4314</td>\n",
       "    </tr>\n",
       "    <tr>\n",
       "      <th>2</th>\n",
       "      <td>28</td>\n",
       "      <td>male</td>\n",
       "      <td>no</td>\n",
       "      <td>southeast</td>\n",
       "      <td>11.00</td>\n",
       "      <td>3</td>\n",
       "      <td>11124</td>\n",
       "    </tr>\n",
       "    <tr>\n",
       "      <th>3</th>\n",
       "      <td>33</td>\n",
       "      <td>male</td>\n",
       "      <td>no</td>\n",
       "      <td>northwest</td>\n",
       "      <td>7.57</td>\n",
       "      <td>0</td>\n",
       "      <td>54961</td>\n",
       "    </tr>\n",
       "    <tr>\n",
       "      <th>4</th>\n",
       "      <td>32</td>\n",
       "      <td>male</td>\n",
       "      <td>no</td>\n",
       "      <td>northwest</td>\n",
       "      <td>9.63</td>\n",
       "      <td>0</td>\n",
       "      <td>9667</td>\n",
       "    </tr>\n",
       "    <tr>\n",
       "      <th>...</th>\n",
       "      <td>...</td>\n",
       "      <td>...</td>\n",
       "      <td>...</td>\n",
       "      <td>...</td>\n",
       "      <td>...</td>\n",
       "      <td>...</td>\n",
       "      <td>...</td>\n",
       "    </tr>\n",
       "    <tr>\n",
       "      <th>1333</th>\n",
       "      <td>50</td>\n",
       "      <td>male</td>\n",
       "      <td>no</td>\n",
       "      <td>northwest</td>\n",
       "      <td>10.32</td>\n",
       "      <td>3</td>\n",
       "      <td>26501</td>\n",
       "    </tr>\n",
       "    <tr>\n",
       "      <th>1334</th>\n",
       "      <td>18</td>\n",
       "      <td>female</td>\n",
       "      <td>no</td>\n",
       "      <td>northeast</td>\n",
       "      <td>10.64</td>\n",
       "      <td>0</td>\n",
       "      <td>5515</td>\n",
       "    </tr>\n",
       "    <tr>\n",
       "      <th>1335</th>\n",
       "      <td>18</td>\n",
       "      <td>female</td>\n",
       "      <td>no</td>\n",
       "      <td>southeast</td>\n",
       "      <td>12.28</td>\n",
       "      <td>0</td>\n",
       "      <td>4075</td>\n",
       "    </tr>\n",
       "    <tr>\n",
       "      <th>1336</th>\n",
       "      <td>21</td>\n",
       "      <td>female</td>\n",
       "      <td>no</td>\n",
       "      <td>southwest</td>\n",
       "      <td>8.60</td>\n",
       "      <td>0</td>\n",
       "      <td>5020</td>\n",
       "    </tr>\n",
       "    <tr>\n",
       "      <th>1337</th>\n",
       "      <td>61</td>\n",
       "      <td>female</td>\n",
       "      <td>yes</td>\n",
       "      <td>northwest</td>\n",
       "      <td>9.69</td>\n",
       "      <td>0</td>\n",
       "      <td>72853</td>\n",
       "    </tr>\n",
       "  </tbody>\n",
       "</table>\n",
       "<p>1338 rows × 7 columns</p>\n",
       "</div>"
      ],
      "text/plain": [
       "      age     sex smoker     region  viral load  severity level  \\\n",
       "0      19  female    yes  southwest        9.30               0   \n",
       "1      18    male     no  southeast       11.26               1   \n",
       "2      28    male     no  southeast       11.00               3   \n",
       "3      33    male     no  northwest        7.57               0   \n",
       "4      32    male     no  northwest        9.63               0   \n",
       "...   ...     ...    ...        ...         ...             ...   \n",
       "1333   50    male     no  northwest       10.32               3   \n",
       "1334   18  female     no  northeast       10.64               0   \n",
       "1335   18  female     no  southeast       12.28               0   \n",
       "1336   21  female     no  southwest        8.60               0   \n",
       "1337   61  female    yes  northwest        9.69               0   \n",
       "\n",
       "      hospitalization charges  \n",
       "0                       42212  \n",
       "1                        4314  \n",
       "2                       11124  \n",
       "3                       54961  \n",
       "4                        9667  \n",
       "...                       ...  \n",
       "1333                    26501  \n",
       "1334                     5515  \n",
       "1335                     4075  \n",
       "1336                     5020  \n",
       "1337                    72853  \n",
       "\n",
       "[1338 rows x 7 columns]"
      ]
     },
     "execution_count": 102,
     "metadata": {},
     "output_type": "execute_result"
    }
   ],
   "source": [
    "df"
   ]
  },
  {
   "cell_type": "markdown",
   "id": "ef225c04",
   "metadata": {},
   "source": [
    "* ## Univariate Analysis"
   ]
  },
  {
   "cell_type": "code",
   "execution_count": 103,
   "id": "66c94512",
   "metadata": {},
   "outputs": [
    {
     "data": {
      "text/plain": [
       "<AxesSubplot:ylabel='Frequency'>"
      ]
     },
     "execution_count": 103,
     "metadata": {},
     "output_type": "execute_result"
    },
    {
     "data": {
      "image/png": "[encoded data removed]",
      "text/plain": [
       "<Figure size 432x288 with 1 Axes>"
      ]
     },
     "metadata": {
      "needs_background": "light"
     },
     "output_type": "display_data"
    }
   ],
   "source": [
    "## lets Explore each column\n",
    "\n",
    "df[\"age\"].plot(kind = \"hist\")"
   ]
  },
  {
   "cell_type": "code",
   "execution_count": 104,
   "id": "8d61e1af",
   "metadata": {},
   "outputs": [
    {
     "data": {
      "image/png": "[encoded data removed]",
      "text/plain": [
       "<Figure size 432x288 with 1 Axes>"
      ]
     },
     "metadata": {
      "needs_background": "light"
     },
     "output_type": "display_data"
    }
   ],
   "source": [
    "ax = sns.histplot(x='age',  data=df)\n",
    "for container in ax.containers:\n",
    "    ax.bar_label(container)"
   ]
  },
  {
   "cell_type": "code",
   "execution_count": 113,
   "id": "8f862331",
   "metadata": {},
   "outputs": [
    {
     "data": {
      "text/plain": [
       "male      676\n",
       "female    662\n",
       "Name: sex, dtype: int64"
      ]
     },
     "execution_count": 113,
     "metadata": {},
     "output_type": "execute_result"
    }
   ],
   "source": [
    "df[\"sex\"].value_counts()"
   ]
  },
  {
   "cell_type": "code",
   "execution_count": 112,
   "id": "3b297a26",
   "metadata": {},
   "outputs": [
    {
     "data": {
      "text/plain": [
       "<AxesSubplot:>"
      ]
     },
     "execution_count": 112,
     "metadata": {},
     "output_type": "execute_result"
    },
    {
     "data": {
      "image/png": "[encoded data removed]",
      "text/plain": [
       "<Figure size 432x288 with 1 Axes>"
      ]
     },
     "metadata": {
      "needs_background": "light"
     },
     "output_type": "display_data"
    }
   ],
   "source": [
    "df[\"sex\"].value_counts().plot(kind = \"barh\", color = \"C1\", )"
   ]
  },
  {
   "cell_type": "code",
   "execution_count": 119,
   "id": "800b1073",
   "metadata": {},
   "outputs": [
    {
     "name": "stdout",
     "output_type": "stream",
     "text": [
      "no     0.795217\n",
      "yes    0.204783\n",
      "Name: smoker, dtype: float64\n",
      "no     1064\n",
      "yes     274\n",
      "Name: smoker, dtype: int64\n"
     ]
    }
   ],
   "source": [
    "print(df[\"smoker\"].value_counts(normalize=True))\n",
    "print(df[\"smoker\"].value_counts())\n"
   ]
  },
  {
   "cell_type": "code",
   "execution_count": 106,
   "id": "c7bcaa55",
   "metadata": {},
   "outputs": [
    {
     "data": {
      "text/plain": [
       "<AxesSubplot:>"
      ]
     },
     "execution_count": 106,
     "metadata": {},
     "output_type": "execute_result"
    },
    {
     "data": {
      "image/png": "[encoded data removed]",
      "text/plain": [
       "<Figure size 432x288 with 1 Axes>"
      ]
     },
     "metadata": {
      "needs_background": "light"
     },
     "output_type": "display_data"
    }
   ],
   "source": [
    "df[\"smoker\"].value_counts().plot(kind = \"barh\", color = \"C02\", )"
   ]
  },
  {
   "cell_type": "code",
   "execution_count": 107,
   "id": "a8417df7",
   "metadata": {},
   "outputs": [
    {
     "data": {
      "image/png": "[encoded data removed]",
      "text/plain": [
       "<Figure size 720x360 with 1 Axes>"
      ]
     },
     "metadata": {
      "needs_background": "light"
     },
     "output_type": "display_data"
    }
   ],
   "source": [
    "plt.figure(figsize=(10,5))\n",
    "ax = sns.histplot(x='viral load',  data=df, )\n",
    "for container in ax.containers:\n",
    "    ax.bar_label(container)"
   ]
  },
  {
   "cell_type": "code",
   "execution_count": 129,
   "id": "be88efd3",
   "metadata": {},
   "outputs": [
    {
     "data": {
      "text/plain": [
       "<AxesSubplot:xlabel='viral load'>"
      ]
     },
     "execution_count": 129,
     "metadata": {},
     "output_type": "execute_result"
    },
    {
     "data": {
      "image/png": "[encoded data removed]",
      "text/plain": [
       "<Figure size 432x288 with 1 Axes>"
      ]
     },
     "metadata": {
      "needs_background": "light"
     },
     "output_type": "display_data"
    }
   ],
   "source": [
    "sns.boxplot(x=df[\"viral load\"])"
   ]
  },
  {
   "cell_type": "code",
   "execution_count": 116,
   "id": "b00bc4ee",
   "metadata": {},
   "outputs": [
    {
     "data": {
      "image/png": "[encoded data removed]",
      "text/plain": [
       "<Figure size 432x288 with 1 Axes>"
      ]
     },
     "metadata": {
      "needs_background": "light"
     },
     "output_type": "display_data"
    }
   ],
   "source": [
    "sns.countplot(y='region', data=df)\n",
    "for container in ax.containers:\n",
    "    ax.bar_label(container)"
   ]
  },
  {
   "cell_type": "code",
   "execution_count": 108,
   "id": "5b1b7446",
   "metadata": {},
   "outputs": [
    {
     "data": {
      "text/plain": [
       "<AxesSubplot:>"
      ]
     },
     "execution_count": 108,
     "metadata": {},
     "output_type": "execute_result"
    },
    {
     "data": {
      "image/png": "[encoded data removed]",
      "text/plain": [
       "<Figure size 432x288 with 1 Axes>"
      ]
     },
     "metadata": {
      "needs_background": "light"
     },
     "output_type": "display_data"
    }
   ],
   "source": [
    "df[\"severity level\"].value_counts().plot(kind = \"bar\", )"
   ]
  },
  {
   "cell_type": "code",
   "execution_count": 127,
   "id": "2d5ed865",
   "metadata": {},
   "outputs": [
    {
     "data": {
      "text/plain": [
       "0    0.428999\n",
       "1    0.242152\n",
       "2    0.179372\n",
       "3    0.117339\n",
       "4    0.018685\n",
       "5    0.013453\n",
       "Name: severity level, dtype: float64"
      ]
     },
     "execution_count": 127,
     "metadata": {},
     "output_type": "execute_result"
    }
   ],
   "source": [
    "df[\"severity level\"].value_counts(normalize=True)"
   ]
  },
  {
   "cell_type": "code",
   "execution_count": 126,
   "id": "72a7f9a3",
   "metadata": {},
   "outputs": [
    {
     "data": {
      "image/png": "[encoded data removed]",
      "text/plain": [
       "<Figure size 720x360 with 1 Axes>"
      ]
     },
     "metadata": {
      "needs_background": "light"
     },
     "output_type": "display_data"
    }
   ],
   "source": [
    "plt.figure(figsize=(10,5))\n",
    "ax = sns.histplot(x='hospitalization charges',  data=df, )\n",
    "for container in ax.containers:\n",
    "    ax.bar_label(container)"
   ]
  },
  {
   "cell_type": "code",
   "execution_count": 128,
   "id": "658ca427",
   "metadata": {},
   "outputs": [
    {
     "data": {
      "text/plain": [
       "<AxesSubplot:xlabel='hospitalization charges'>"
      ]
     },
     "execution_count": 128,
     "metadata": {},
     "output_type": "execute_result"
    },
    {
     "data": {
      "image/png": "[encoded data removed]",
      "text/plain": [
       "<Figure size 432x288 with 1 Axes>"
      ]
     },
     "metadata": {
      "needs_background": "light"
     },
     "output_type": "display_data"
    }
   ],
   "source": [
    "sns.boxplot(x=df[\"hospitalization charges\"])"
   ]
  },
  {
   "cell_type": "markdown",
   "id": "a0df139f",
   "metadata": {},
   "source": [
    "* ## Observation \n",
    "\n",
    "> There are no nul values in data\n",
    "\n",
    "> Females and males present in the data is almost same  with 662 and 672 respectively\n",
    "\n",
    "> Majority of the patients are non smokers 1064 to be exact and 274 smokers to be exact\n",
    "\n",
    "> Southeast region of delhi have sightly more patients and rest other regions hav almot same no. of patients\n",
    "\n",
    "> mean Viral load is 10.21\n",
    "\n",
    "> 42 percent of the patients are of \"0\" level severity and 1.3 percent are of \"5\" level severity\n",
    "\n",
    "> Hospitalization charges has large no of outliers "
   ]
  },
  {
   "cell_type": "markdown",
   "id": "d7325732",
   "metadata": {},
   "source": [
    "* ## Bivariate Analysis"
   ]
  },
  {
   "cell_type": "code",
   "execution_count": 8,
   "id": "2e07fb95",
   "metadata": {},
   "outputs": [],
   "source": [
    "df_2 = df"
   ]
  },
  {
   "cell_type": "code",
   "execution_count": 12,
   "id": "fd26bc48",
   "metadata": {},
   "outputs": [
    {
     "data": {
      "text/plain": [
       "64"
      ]
     },
     "execution_count": 12,
     "metadata": {},
     "output_type": "execute_result"
    }
   ],
   "source": [
    "df[\"age\"].max()"
   ]
  },
  {
   "cell_type": "code",
   "execution_count": 15,
   "id": "78f07d9b",
   "metadata": {},
   "outputs": [],
   "source": [
    "df_2['age_grps'] = pd.cut(x=df_2['age'], bins=[10, 20, 30, 40, 50, 60, 70], labels=['10s','20s', '30s', '40s','50s', \"60s\"])"
   ]
  },
  {
   "cell_type": "code",
   "execution_count": 18,
   "id": "6e33d096",
   "metadata": {},
   "outputs": [
    {
     "data": {
      "text/plain": [
       "40s    281\n",
       "20s    278\n",
       "50s    265\n",
       "30s    257\n",
       "10s    166\n",
       "60s     91\n",
       "Name: age_grps, dtype: int64"
      ]
     },
     "execution_count": 18,
     "metadata": {},
     "output_type": "execute_result"
    }
   ],
   "source": [
    "df_2[\"age_grps\"].value_counts()"
   ]
  },
  {
   "cell_type": "code",
   "execution_count": 23,
   "id": "af548f8a",
   "metadata": {},
   "outputs": [
    {
     "data": {
      "text/plain": [
       "<AxesSubplot:xlabel='age_grps', ylabel='hospitalization charges'>"
      ]
     },
     "execution_count": 23,
     "metadata": {},
     "output_type": "execute_result"
    },
    {
     "data": {
      "image/png": "[encoded data removed]",
      "text/plain": [
       "<Figure size 432x288 with 1 Axes>"
      ]
     },
     "metadata": {
      "needs_background": "light"
     },
     "output_type": "display_data"
    }
   ],
   "source": [
    "sns.barplot(data = df_2, x = \"age_grps\", y = \"hospitalization charges\")"
   ]
  },
  {
   "cell_type": "code",
   "execution_count": 24,
   "id": "8998b023",
   "metadata": {},
   "outputs": [
    {
     "data": {
      "text/plain": [
       "<AxesSubplot:xlabel='age_grps', ylabel='hospitalization charges'>"
      ]
     },
     "execution_count": 24,
     "metadata": {},
     "output_type": "execute_result"
    },
    {
     "data": {
      "image/png": "[encoded data removed]",
      "text/plain": [
       "<Figure size 432x288 with 1 Axes>"
      ]
     },
     "metadata": {
      "needs_background": "light"
     },
     "output_type": "display_data"
    }
   ],
   "source": [
    "sns.barplot(data = df_2, x = \"age_grps\", y = \"hospitalization charges\", hue = \"smoker\")"
   ]
  },
  {
   "cell_type": "code",
   "execution_count": 135,
   "id": "6ae1504a",
   "metadata": {},
   "outputs": [
    {
     "data": {
      "text/plain": [
       "<AxesSubplot:xlabel='region', ylabel='hospitalization charges'>"
      ]
     },
     "execution_count": 135,
     "metadata": {},
     "output_type": "execute_result"
    },
    {
     "data": {
      "image/png": "[encoded data removed]",
      "text/plain": [
       "<Figure size 432x288 with 1 Axes>"
      ]
     },
     "metadata": {
      "needs_background": "light"
     },
     "output_type": "display_data"
    }
   ],
   "source": [
    "sns.barplot(data = df, x = \"region\", y = \"hospitalization charges\", hue = \"sex\")"
   ]
  },
  {
   "cell_type": "code",
   "execution_count": 15,
   "id": "ae9af1d4",
   "metadata": {},
   "outputs": [
    {
     "data": {
      "text/plain": [
       "<Figure size 1080x720 with 0 Axes>"
      ]
     },
     "metadata": {},
     "output_type": "display_data"
    },
    {
     "data": {
      "image/png": "[encoded data removed]",
      "text/plain": [
       "<Figure size 595.44x360 with 2 Axes>"
      ]
     },
     "metadata": {
      "needs_background": "light"
     },
     "output_type": "display_data"
    }
   ],
   "source": [
    "plt.figure(figsize=(15,10))\n",
    "g = sns.catplot(data=df, x=\"region\", y=\"severity level\", col=\"sex\",\n",
    "    kind=\"bar\", height=4, aspect=.6,)\n",
    "g.fig.set_figwidth(8.27)\n",
    "g.fig.set_figheight(5)"
   ]
  },
  {
   "cell_type": "code",
   "execution_count": 61,
   "id": "8bd375a8",
   "metadata": {},
   "outputs": [
    {
     "data": {
      "text/plain": [
       "<AxesSubplot:xlabel='region', ylabel='viral load'>"
      ]
     },
     "execution_count": 61,
     "metadata": {},
     "output_type": "execute_result"
    },
    {
     "data": {
      "image/png": "[encoded data removed]",
      "text/plain": [
       "<Figure size 432x288 with 1 Axes>"
      ]
     },
     "metadata": {
      "needs_background": "light"
     },
     "output_type": "display_data"
    }
   ],
   "source": [
    "sns.color_palette(\"rocket\", as_cmap=True)\n",
    "sns.barplot(x = \"region\", y = \"viral load\", data = df, hue= \"smoker\", )\n"
   ]
  },
  {
   "cell_type": "code",
   "execution_count": 54,
   "id": "19db70cd",
   "metadata": {},
   "outputs": [
    {
     "data": {
      "text/plain": [
       "0    574\n",
       "1    324\n",
       "2    240\n",
       "3    157\n",
       "4     25\n",
       "5     18\n",
       "Name: severity level, dtype: int64"
      ]
     },
     "execution_count": 54,
     "metadata": {},
     "output_type": "execute_result"
    }
   ],
   "source": [
    "df[\"severity level\"].value_counts()"
   ]
  },
  {
   "cell_type": "code",
   "execution_count": 57,
   "id": "62f74069",
   "metadata": {},
   "outputs": [
    {
     "data": {
      "text/plain": [
       "<AxesSubplot:xlabel='hospitalization charges', ylabel='viral load'>"
      ]
     },
     "execution_count": 57,
     "metadata": {},
     "output_type": "execute_result"
    },
    {
     "data": {
      "image/png": "[encoded data removed]",
      "text/plain": [
       "<Figure size 432x288 with 1 Axes>"
      ]
     },
     "metadata": {
      "needs_background": "light"
     },
     "output_type": "display_data"
    }
   ],
   "source": [
    "sns.scatterplot(data=df, x=\"hospitalization charges\", y=\"viral load\", hue=\"severity level\", size=\"severity level\")"
   ]
  },
  {
   "cell_type": "code",
   "execution_count": 142,
   "id": "f301faa7",
   "metadata": {},
   "outputs": [
    {
     "data": {
      "image/png": "[encoded data removed]",
      "text/plain": [
       "<Figure size 720x360 with 1 Axes>"
      ]
     },
     "metadata": {
      "needs_background": "light"
     },
     "output_type": "display_data"
    }
   ],
   "source": [
    "plt.figure(figsize=(10,5))\n",
    "\n",
    "sns.scatterplot(data=df, y=\"hospitalization charges\", x=\"age\", hue=\"severity level\", size=\"severity level\")\n",
    "\n",
    "plt.show()"
   ]
  },
  {
   "cell_type": "code",
   "execution_count": 17,
   "id": "e2be5c96",
   "metadata": {},
   "outputs": [
    {
     "data": {
      "text/plain": [
       "<Figure size 1080x720 with 0 Axes>"
      ]
     },
     "metadata": {},
     "output_type": "display_data"
    },
    {
     "data": {
      "image/png": "[encoded data removed]",
      "text/plain": [
       "<Figure size 595.44x360 with 2 Axes>"
      ]
     },
     "metadata": {
      "needs_background": "light"
     },
     "output_type": "display_data"
    }
   ],
   "source": [
    "plt.figure(figsize=(15,10))\n",
    "g = sns.catplot(data=df, x=\"region\", y=\"viral load\", col=\"sex\",\n",
    "    kind=\"bar\", height=4, aspect=.6,)\n",
    "g.fig.set_figwidth(8.27)\n",
    "g.fig.set_figheight(5)"
   ]
  },
  {
   "cell_type": "code",
   "execution_count": 134,
   "id": "a75c7723",
   "metadata": {},
   "outputs": [
    {
     "data": {
      "text/plain": [
       "<AxesSubplot:xlabel='viral load', ylabel='hospitalization charges'>"
      ]
     },
     "execution_count": 134,
     "metadata": {},
     "output_type": "execute_result"
    },
    {
     "data": {
      "image/png": "[encoded data removed]",
      "text/plain": [
       "<Figure size 432x288 with 1 Axes>"
      ]
     },
     "metadata": {
      "needs_background": "light"
     },
     "output_type": "display_data"
    }
   ],
   "source": [
    "sns.scatterplot(data=df, x=\"viral load\", y=\"hospitalization charges\", )"
   ]
  },
  {
   "cell_type": "code",
   "execution_count": 136,
   "id": "2bd13353",
   "metadata": {},
   "outputs": [
    {
     "data": {
      "text/plain": [
       "<AxesSubplot:xlabel='smoker', ylabel='hospitalization charges'>"
      ]
     },
     "execution_count": 136,
     "metadata": {},
     "output_type": "execute_result"
    },
    {
     "data": {
      "image/png": "[encoded data removed]",
      "text/plain": [
       "<Figure size 432x288 with 1 Axes>"
      ]
     },
     "metadata": {
      "needs_background": "light"
     },
     "output_type": "display_data"
    }
   ],
   "source": [
    "sns.barplot(data = df, y = \"hospitalization charges\", x = \"smoker\")"
   ]
  },
  {
   "cell_type": "code",
   "execution_count": 139,
   "id": "07270756",
   "metadata": {},
   "outputs": [
    {
     "data": {
      "image/png": "[encoded data removed]",
      "text/plain": [
       "<Figure size 360x360 with 1 Axes>"
      ]
     },
     "metadata": {
      "needs_background": "light"
     },
     "output_type": "display_data"
    }
   ],
   "source": [
    "plt.figure(figsize=(5,5))\n",
    "sns.boxplot(x=\"severity level\", y=\"hospitalization charges\", data = df)\n",
    "plt.show()"
   ]
  },
  {
   "cell_type": "code",
   "execution_count": 62,
   "id": "c6abeeb9",
   "metadata": {},
   "outputs": [
    {
     "data": {
      "text/plain": [
       "<AxesSubplot:xlabel='viral load', ylabel='region'>"
      ]
     },
     "execution_count": 62,
     "metadata": {},
     "output_type": "execute_result"
    },
    {
     "data": {
      "image/png": "[encoded data removed]",
      "text/plain": [
       "<Figure size 432x288 with 1 Axes>"
      ]
     },
     "metadata": {
      "needs_background": "light"
     },
     "output_type": "display_data"
    }
   ],
   "source": [
    "sns.scatterplot(data=df, x=\"viral load\", y=\"region\", )"
   ]
  },
  {
   "cell_type": "code",
   "execution_count": 150,
   "id": "7c832b3b",
   "metadata": {},
   "outputs": [
    {
     "data": {
      "text/plain": [
       "<AxesSubplot:xlabel='severity level', ylabel='smoker'>"
      ]
     },
     "execution_count": 150,
     "metadata": {},
     "output_type": "execute_result"
    },
    {
     "data": {
      "image/png": "[encoded data removed]",
      "text/plain": [
       "<Figure size 432x288 with 1 Axes>"
      ]
     },
     "metadata": {
      "needs_background": "light"
     },
     "output_type": "display_data"
    }
   ],
   "source": [
    "sns.barplot(data=df, x=\"severity level\", y=\"smoker\", )"
   ]
  },
  {
   "cell_type": "code",
   "execution_count": 151,
   "id": "e4bade38",
   "metadata": {},
   "outputs": [
    {
     "data": {
      "text/plain": [
       "<AxesSubplot:xlabel='viral load', ylabel='smoker'>"
      ]
     },
     "execution_count": 151,
     "metadata": {},
     "output_type": "execute_result"
    },
    {
     "data": {
      "image/png": "[encoded data removed]",
      "text/plain": [
       "<Figure size 432x288 with 1 Axes>"
      ]
     },
     "metadata": {
      "needs_background": "light"
     },
     "output_type": "display_data"
    }
   ],
   "source": [
    "sns.barplot(data=df, x=\"viral load\", y=\"smoker\", )"
   ]
  },
  {
   "cell_type": "markdown",
   "id": "c4fad3fa",
   "metadata": {},
   "source": [
    "* ## Observation \n",
    "\n",
    "> hospitalization charges have a linear relationship with age groups, similarly linear for gender and smokers\n",
    "\n",
    "> Observing South east region of Delhi has with most hospitalization charges with both genders\n",
    "\n",
    "> South east region of Delhi has observed high ranges of viral load among both males and females \n",
    "\n",
    "> hospitalization charges among smokers is significantly higher than non smokers\n",
    "\n",
    "> severity level 2 has high hospitalization charges with its 25 percentile and 75 percentile comparatively higher than others\n",
    "\n",
    "> viral load among smokers and non smokers is alomst same\n",
    "\n",
    "> severity level among smokers is slightly high"
   ]
  },
  {
   "cell_type": "code",
   "execution_count": null,
   "id": "b294f784",
   "metadata": {},
   "outputs": [],
   "source": []
  },
  {
   "cell_type": "markdown",
   "id": "212e6ed8",
   "metadata": {},
   "source": [
    "## Detecting outliers\n",
    "> In viral load, Hospitalization charges"
   ]
  },
  {
   "cell_type": "code",
   "execution_count": 129,
   "id": "fdf9548d",
   "metadata": {},
   "outputs": [
    {
     "data": {
      "text/plain": [
       "<AxesSubplot:>"
      ]
     },
     "execution_count": 129,
     "metadata": {},
     "output_type": "execute_result"
    },
    {
     "data": {
      "image/png": "[encoded data removed]",
      "text/plain": [
       "<Figure size 432x288 with 1 Axes>"
      ]
     },
     "metadata": {
      "needs_background": "light"
     },
     "output_type": "display_data"
    }
   ],
   "source": [
    "def detect_outliers(d):\n",
    "    iqr = d.quantile(0.75) - d.quantile(0.25)\n",
    "    upper = d.quantile(0.75) + 1*iqr\n",
    "    lower = d.quantile(0.25) - 1*iqr\n",
    "    return d.loc[(d < lower) | (d > upper)]\n",
    "\n",
    "\n",
    "ol = detect_outliers(df['hospitalization charges'])\n",
    "df.loc[~df.index.isin(ol.index)]['hospitalization charges'].hist(bins=30)\n",
    "ol.hist(bins=30)"
   ]
  },
  {
   "cell_type": "code",
   "execution_count": 130,
   "id": "45cedb5e",
   "metadata": {},
   "outputs": [
    {
     "data": {
      "text/plain": [
       "<AxesSubplot:>"
      ]
     },
     "execution_count": 130,
     "metadata": {},
     "output_type": "execute_result"
    },
    {
     "data": {
      "image/png": "[encoded data removed]",
      "text/plain": [
       "<Figure size 432x288 with 1 Axes>"
      ]
     },
     "metadata": {
      "needs_background": "light"
     },
     "output_type": "display_data"
    }
   ],
   "source": [
    "\n",
    "\n",
    "ol = detect_outliers(df['viral load'])\n",
    "df.loc[~df.index.isin(ol.index)]['viral load'].hist(bins=30)\n",
    "ol.hist(bins=30)"
   ]
  },
  {
   "cell_type": "markdown",
   "id": "db146d37",
   "metadata": {},
   "source": [
    "## Oservation\n",
    "> There are some outliers in hospitalization charges and viral load\n",
    "\n",
    "> We will not delete and changes the outlier values with mean or mode as dataset is very small and any such changes to such small data might affect it negatively"
   ]
  },
  {
   "cell_type": "code",
   "execution_count": 144,
   "id": "32fb9c3c",
   "metadata": {},
   "outputs": [
    {
     "data": {
      "text/plain": [
       "<AxesSubplot:>"
      ]
     },
     "execution_count": 144,
     "metadata": {},
     "output_type": "execute_result"
    },
    {
     "data": {
      "image/png": "[encoded data removed]",
      "text/plain": [
       "<Figure size 432x288 with 2 Axes>"
      ]
     },
     "metadata": {
      "needs_background": "light"
     },
     "output_type": "display_data"
    }
   ],
   "source": [
    "sns.heatmap(data = df.corr(), annot=True, cmap=\"Blues\")"
   ]
  },
  {
   "cell_type": "markdown",
   "id": "897a2cd2",
   "metadata": {},
   "source": [
    "### Comment\n",
    "\n",
    "No high correlation among continous variables"
   ]
  },
  {
   "cell_type": "code",
   "execution_count": null,
   "id": "e11cd193",
   "metadata": {},
   "outputs": [],
   "source": []
  },
  {
   "cell_type": "markdown",
   "id": "35bd821f",
   "metadata": {},
   "source": [
    "======================================================================================================================="
   ]
  },
  {
   "cell_type": "markdown",
   "id": "dfcca562",
   "metadata": {},
   "source": [
    "## Statistical Analysis\n",
    "\n",
    "## 1. Chi squared\n",
    "###  Is the proportion of smoking significantly different across different regions? (Chi-square)"
   ]
  },
  {
   "cell_type": "markdown",
   "id": "8392e062",
   "metadata": {},
   "source": [
    "Null Hypothesis Ho\n",
    "\n",
    "> Proportion of smoking is same across different regions of Delhi\n",
    "\n",
    "Alternate Hypothesis\n",
    "\n",
    "> There is significant difference of smoking amon different regions of Delhi"
   ]
  },
  {
   "cell_type": "code",
   "execution_count": 12,
   "id": "5d816d41",
   "metadata": {},
   "outputs": [
    {
     "data": {
      "text/plain": [
       "southeast    364\n",
       "southwest    325\n",
       "northwest    325\n",
       "northeast    324\n",
       "Name: region, dtype: int64"
      ]
     },
     "execution_count": 12,
     "metadata": {},
     "output_type": "execute_result"
    }
   ],
   "source": [
    "df[\"region\"].value_counts()"
   ]
  },
  {
   "cell_type": "code",
   "execution_count": 13,
   "id": "ecb866ad",
   "metadata": {},
   "outputs": [
    {
     "data": {
      "text/plain": [
       "no     1064\n",
       "yes     274\n",
       "Name: smoker, dtype: int64"
      ]
     },
     "execution_count": 13,
     "metadata": {},
     "output_type": "execute_result"
    }
   ],
   "source": [
    "df[\"smoker\"].value_counts()"
   ]
  },
  {
   "cell_type": "code",
   "execution_count": 14,
   "id": "622369e7",
   "metadata": {},
   "outputs": [
    {
     "data": {
      "text/html": [
       "<div>\n",
       "<style scoped>\n",
       "    .dataframe tbody tr th:only-of-type {\n",
       "        vertical-align: middle;\n",
       "    }\n",
       "\n",
       "    .dataframe tbody tr th {\n",
       "        vertical-align: top;\n",
       "    }\n",
       "\n",
       "    .dataframe thead th {\n",
       "        text-align: right;\n",
       "    }\n",
       "</style>\n",
       "<table border=\"1\" class=\"dataframe\">\n",
       "  <thead>\n",
       "    <tr style=\"text-align: right;\">\n",
       "      <th>smoker</th>\n",
       "      <th>no</th>\n",
       "      <th>yes</th>\n",
       "      <th>All</th>\n",
       "    </tr>\n",
       "    <tr>\n",
       "      <th>region</th>\n",
       "      <th></th>\n",
       "      <th></th>\n",
       "      <th></th>\n",
       "    </tr>\n",
       "  </thead>\n",
       "  <tbody>\n",
       "    <tr>\n",
       "      <th>northeast</th>\n",
       "      <td>257</td>\n",
       "      <td>67</td>\n",
       "      <td>324</td>\n",
       "    </tr>\n",
       "    <tr>\n",
       "      <th>northwest</th>\n",
       "      <td>267</td>\n",
       "      <td>58</td>\n",
       "      <td>325</td>\n",
       "    </tr>\n",
       "    <tr>\n",
       "      <th>southeast</th>\n",
       "      <td>273</td>\n",
       "      <td>91</td>\n",
       "      <td>364</td>\n",
       "    </tr>\n",
       "    <tr>\n",
       "      <th>southwest</th>\n",
       "      <td>267</td>\n",
       "      <td>58</td>\n",
       "      <td>325</td>\n",
       "    </tr>\n",
       "    <tr>\n",
       "      <th>All</th>\n",
       "      <td>1064</td>\n",
       "      <td>274</td>\n",
       "      <td>1338</td>\n",
       "    </tr>\n",
       "  </tbody>\n",
       "</table>\n",
       "</div>"
      ],
      "text/plain": [
       "smoker       no  yes   All\n",
       "region                    \n",
       "northeast   257   67   324\n",
       "northwest   267   58   325\n",
       "southeast   273   91   364\n",
       "southwest   267   58   325\n",
       "All        1064  274  1338"
      ]
     },
     "execution_count": 14,
     "metadata": {},
     "output_type": "execute_result"
    }
   ],
   "source": [
    "pd.crosstab(index=df['region'], columns=df['smoker'], margins=True)"
   ]
  },
  {
   "cell_type": "code",
   "execution_count": 15,
   "id": "12cd7115",
   "metadata": {},
   "outputs": [],
   "source": [
    "from scipy.stats import chi2_contingency\n",
    "# defining the table\n",
    "data = [[257, 267, 273, 267], [67, 58, 91, 58], [324, 325, 364, 325]]\n",
    "stat, p, dof, expected = chi2_contingency(data)"
   ]
  },
  {
   "cell_type": "code",
   "execution_count": 16,
   "id": "a5387453",
   "metadata": {},
   "outputs": [
    {
     "data": {
      "text/plain": [
       "0.2902469059220768"
      ]
     },
     "execution_count": 16,
     "metadata": {},
     "output_type": "execute_result"
    }
   ],
   "source": [
    "p"
   ]
  },
  {
   "cell_type": "code",
   "execution_count": 17,
   "id": "0944c246",
   "metadata": {},
   "outputs": [
    {
     "data": {
      "text/plain": [
       "array([[257.65022422, 258.44544096, 289.45889387, 258.44544096],\n",
       "       [ 66.34977578,  66.55455904,  74.54110613,  66.55455904],\n",
       "       [324.        , 325.        , 364.        , 325.        ]])"
      ]
     },
     "execution_count": 17,
     "metadata": {},
     "output_type": "execute_result"
    }
   ],
   "source": [
    "expected"
   ]
  },
  {
   "cell_type": "code",
   "execution_count": 19,
   "id": "56d15f8a",
   "metadata": {},
   "outputs": [
    {
     "name": "stdout",
     "output_type": "stream",
     "text": [
      "Accept Ho, fail to reject he null hypothesis\n"
     ]
    }
   ],
   "source": [
    "alpha = 0.05\n",
    "p\n",
    "if p < alpha:\n",
    "    print(\"Reject Ho. Accept Ha\")\n",
    "else:\n",
    "    \n",
    "    print(\"Accept Ho, fail to reject the null hypothesis\")"
   ]
  },
  {
   "cell_type": "markdown",
   "id": "19b92055",
   "metadata": {},
   "source": [
    "### Test Observation and Conlusion\n",
    "\n",
    ">> Proportion of smoking is same across different regions of Delhi\n",
    "There is no difference in smoking patterns in diifferent regions of Delhi"
   ]
  },
  {
   "cell_type": "markdown",
   "id": "04787c9f",
   "metadata": {},
   "source": [
    "========================================================================================================================"
   ]
  },
  {
   "cell_type": "markdown",
   "id": "9c21090d",
   "metadata": {},
   "source": [
    "## 2. Annova\n",
    "\n",
    "### Is the mean viral load of women with 0 Severity level, 1 Severity level, and 2 Severity level the same? \n",
    "\n",
    "\n",
    ">> A one-way ANOVA (“analysis of variance”) is used to determine whether or not there is a statistically significant difference between the means of three viral load of women with 0 Severity level , 1 Severity level, and 2 Severity level."
   ]
  },
  {
   "cell_type": "markdown",
   "id": "9eb6bc38",
   "metadata": {},
   "source": [
    "Null Hypothesis Ho\n",
    "\n",
    "> Similarity in means of viral load of women with 0 Severity level , 1 Severity level, and 2 Severity level.\n",
    "\n",
    "Alternate Hypothesis\n",
    "\n",
    "> There is significant difference in means of viral load of women with 0 Severity level , 1 Severity level, and 2 Severity level"
   ]
  },
  {
   "cell_type": "code",
   "execution_count": 77,
   "id": "9a0a40fe",
   "metadata": {},
   "outputs": [],
   "source": [
    "## stats model library\n",
    "from scipy.stats import f_oneway"
   ]
  },
  {
   "cell_type": "code",
   "execution_count": 59,
   "id": "34f7212b",
   "metadata": {},
   "outputs": [],
   "source": [
    "df_fml = df[df[\"sex\"] == \"female\"]"
   ]
  },
  {
   "cell_type": "code",
   "execution_count": 60,
   "id": "c944f969",
   "metadata": {},
   "outputs": [
    {
     "data": {
      "text/html": [
       "<div>\n",
       "<style scoped>\n",
       "    .dataframe tbody tr th:only-of-type {\n",
       "        vertical-align: middle;\n",
       "    }\n",
       "\n",
       "    .dataframe tbody tr th {\n",
       "        vertical-align: top;\n",
       "    }\n",
       "\n",
       "    .dataframe thead th {\n",
       "        text-align: right;\n",
       "    }\n",
       "</style>\n",
       "<table border=\"1\" class=\"dataframe\">\n",
       "  <thead>\n",
       "    <tr style=\"text-align: right;\">\n",
       "      <th></th>\n",
       "      <th>age</th>\n",
       "      <th>sex</th>\n",
       "      <th>smoker</th>\n",
       "      <th>region</th>\n",
       "      <th>viral load</th>\n",
       "      <th>severity level</th>\n",
       "      <th>hospitalization charges</th>\n",
       "    </tr>\n",
       "  </thead>\n",
       "  <tbody>\n",
       "    <tr>\n",
       "      <th>0</th>\n",
       "      <td>19</td>\n",
       "      <td>female</td>\n",
       "      <td>yes</td>\n",
       "      <td>southwest</td>\n",
       "      <td>9.30</td>\n",
       "      <td>0</td>\n",
       "      <td>42212</td>\n",
       "    </tr>\n",
       "    <tr>\n",
       "      <th>5</th>\n",
       "      <td>31</td>\n",
       "      <td>female</td>\n",
       "      <td>no</td>\n",
       "      <td>southeast</td>\n",
       "      <td>8.58</td>\n",
       "      <td>0</td>\n",
       "      <td>9392</td>\n",
       "    </tr>\n",
       "    <tr>\n",
       "      <th>6</th>\n",
       "      <td>46</td>\n",
       "      <td>female</td>\n",
       "      <td>no</td>\n",
       "      <td>southeast</td>\n",
       "      <td>11.15</td>\n",
       "      <td>1</td>\n",
       "      <td>20601</td>\n",
       "    </tr>\n",
       "    <tr>\n",
       "      <th>7</th>\n",
       "      <td>37</td>\n",
       "      <td>female</td>\n",
       "      <td>no</td>\n",
       "      <td>northwest</td>\n",
       "      <td>9.25</td>\n",
       "      <td>3</td>\n",
       "      <td>18204</td>\n",
       "    </tr>\n",
       "    <tr>\n",
       "      <th>9</th>\n",
       "      <td>60</td>\n",
       "      <td>female</td>\n",
       "      <td>no</td>\n",
       "      <td>northwest</td>\n",
       "      <td>8.61</td>\n",
       "      <td>0</td>\n",
       "      <td>72308</td>\n",
       "    </tr>\n",
       "    <tr>\n",
       "      <th>...</th>\n",
       "      <td>...</td>\n",
       "      <td>...</td>\n",
       "      <td>...</td>\n",
       "      <td>...</td>\n",
       "      <td>...</td>\n",
       "      <td>...</td>\n",
       "      <td>...</td>\n",
       "    </tr>\n",
       "    <tr>\n",
       "      <th>1332</th>\n",
       "      <td>52</td>\n",
       "      <td>female</td>\n",
       "      <td>no</td>\n",
       "      <td>southwest</td>\n",
       "      <td>14.90</td>\n",
       "      <td>3</td>\n",
       "      <td>28529</td>\n",
       "    </tr>\n",
       "    <tr>\n",
       "      <th>1334</th>\n",
       "      <td>18</td>\n",
       "      <td>female</td>\n",
       "      <td>no</td>\n",
       "      <td>northeast</td>\n",
       "      <td>10.64</td>\n",
       "      <td>0</td>\n",
       "      <td>5515</td>\n",
       "    </tr>\n",
       "    <tr>\n",
       "      <th>1335</th>\n",
       "      <td>18</td>\n",
       "      <td>female</td>\n",
       "      <td>no</td>\n",
       "      <td>southeast</td>\n",
       "      <td>12.28</td>\n",
       "      <td>0</td>\n",
       "      <td>4075</td>\n",
       "    </tr>\n",
       "    <tr>\n",
       "      <th>1336</th>\n",
       "      <td>21</td>\n",
       "      <td>female</td>\n",
       "      <td>no</td>\n",
       "      <td>southwest</td>\n",
       "      <td>8.60</td>\n",
       "      <td>0</td>\n",
       "      <td>5020</td>\n",
       "    </tr>\n",
       "    <tr>\n",
       "      <th>1337</th>\n",
       "      <td>61</td>\n",
       "      <td>female</td>\n",
       "      <td>yes</td>\n",
       "      <td>northwest</td>\n",
       "      <td>9.69</td>\n",
       "      <td>0</td>\n",
       "      <td>72853</td>\n",
       "    </tr>\n",
       "  </tbody>\n",
       "</table>\n",
       "<p>662 rows × 7 columns</p>\n",
       "</div>"
      ],
      "text/plain": [
       "      age     sex smoker     region  viral load  severity level  \\\n",
       "0      19  female    yes  southwest        9.30               0   \n",
       "5      31  female     no  southeast        8.58               0   \n",
       "6      46  female     no  southeast       11.15               1   \n",
       "7      37  female     no  northwest        9.25               3   \n",
       "9      60  female     no  northwest        8.61               0   \n",
       "...   ...     ...    ...        ...         ...             ...   \n",
       "1332   52  female     no  southwest       14.90               3   \n",
       "1334   18  female     no  northeast       10.64               0   \n",
       "1335   18  female     no  southeast       12.28               0   \n",
       "1336   21  female     no  southwest        8.60               0   \n",
       "1337   61  female    yes  northwest        9.69               0   \n",
       "\n",
       "      hospitalization charges  \n",
       "0                       42212  \n",
       "5                        9392  \n",
       "6                       20601  \n",
       "7                       18204  \n",
       "9                       72308  \n",
       "...                       ...  \n",
       "1332                    28529  \n",
       "1334                     5515  \n",
       "1335                     4075  \n",
       "1336                     5020  \n",
       "1337                    72853  \n",
       "\n",
       "[662 rows x 7 columns]"
      ]
     },
     "execution_count": 60,
     "metadata": {},
     "output_type": "execute_result"
    }
   ],
   "source": [
    "df_fml"
   ]
  },
  {
   "cell_type": "code",
   "execution_count": 65,
   "id": "a6926b7f",
   "metadata": {},
   "outputs": [],
   "source": [
    "df2 = df_fml[ (df_fml['severity level'] < 3) ]"
   ]
  },
  {
   "cell_type": "code",
   "execution_count": 66,
   "id": "4d8dbc6b",
   "metadata": {},
   "outputs": [
    {
     "data": {
      "text/plain": [
       "0    289\n",
       "1    158\n",
       "2    119\n",
       "Name: severity level, dtype: int64"
      ]
     },
     "execution_count": 66,
     "metadata": {},
     "output_type": "execute_result"
    }
   ],
   "source": [
    "df2[\"severity level\"].value_counts()"
   ]
  },
  {
   "cell_type": "code",
   "execution_count": 157,
   "id": "380ee251",
   "metadata": {},
   "outputs": [
    {
     "data": {
      "text/plain": [
       "0    289\n",
       "1    158\n",
       "2    119\n",
       "3     77\n",
       "4     11\n",
       "5      8\n",
       "Name: severity level, dtype: int64"
      ]
     },
     "execution_count": 157,
     "metadata": {},
     "output_type": "execute_result"
    }
   ],
   "source": [
    "df_fml[\"severity level\"].value_counts()"
   ]
  },
  {
   "cell_type": "code",
   "execution_count": 68,
   "id": "a21a7872",
   "metadata": {},
   "outputs": [
    {
     "data": {
      "text/html": [
       "<div>\n",
       "<style scoped>\n",
       "    .dataframe tbody tr th:only-of-type {\n",
       "        vertical-align: middle;\n",
       "    }\n",
       "\n",
       "    .dataframe tbody tr th {\n",
       "        vertical-align: top;\n",
       "    }\n",
       "\n",
       "    .dataframe thead th {\n",
       "        text-align: right;\n",
       "    }\n",
       "</style>\n",
       "<table border=\"1\" class=\"dataframe\">\n",
       "  <thead>\n",
       "    <tr style=\"text-align: right;\">\n",
       "      <th></th>\n",
       "      <th>age</th>\n",
       "      <th>sex</th>\n",
       "      <th>smoker</th>\n",
       "      <th>region</th>\n",
       "      <th>viral load</th>\n",
       "      <th>severity level</th>\n",
       "      <th>hospitalization charges</th>\n",
       "    </tr>\n",
       "  </thead>\n",
       "  <tbody>\n",
       "    <tr>\n",
       "      <th>0</th>\n",
       "      <td>19</td>\n",
       "      <td>female</td>\n",
       "      <td>yes</td>\n",
       "      <td>southwest</td>\n",
       "      <td>9.30</td>\n",
       "      <td>0</td>\n",
       "      <td>42212</td>\n",
       "    </tr>\n",
       "    <tr>\n",
       "      <th>5</th>\n",
       "      <td>31</td>\n",
       "      <td>female</td>\n",
       "      <td>no</td>\n",
       "      <td>southeast</td>\n",
       "      <td>8.58</td>\n",
       "      <td>0</td>\n",
       "      <td>9392</td>\n",
       "    </tr>\n",
       "    <tr>\n",
       "      <th>6</th>\n",
       "      <td>46</td>\n",
       "      <td>female</td>\n",
       "      <td>no</td>\n",
       "      <td>southeast</td>\n",
       "      <td>11.15</td>\n",
       "      <td>1</td>\n",
       "      <td>20601</td>\n",
       "    </tr>\n",
       "    <tr>\n",
       "      <th>9</th>\n",
       "      <td>60</td>\n",
       "      <td>female</td>\n",
       "      <td>no</td>\n",
       "      <td>northwest</td>\n",
       "      <td>8.61</td>\n",
       "      <td>0</td>\n",
       "      <td>72308</td>\n",
       "    </tr>\n",
       "    <tr>\n",
       "      <th>11</th>\n",
       "      <td>62</td>\n",
       "      <td>female</td>\n",
       "      <td>yes</td>\n",
       "      <td>southeast</td>\n",
       "      <td>8.76</td>\n",
       "      <td>0</td>\n",
       "      <td>69522</td>\n",
       "    </tr>\n",
       "    <tr>\n",
       "      <th>...</th>\n",
       "      <td>...</td>\n",
       "      <td>...</td>\n",
       "      <td>...</td>\n",
       "      <td>...</td>\n",
       "      <td>...</td>\n",
       "      <td>...</td>\n",
       "      <td>...</td>\n",
       "    </tr>\n",
       "    <tr>\n",
       "      <th>1331</th>\n",
       "      <td>23</td>\n",
       "      <td>female</td>\n",
       "      <td>no</td>\n",
       "      <td>southwest</td>\n",
       "      <td>11.13</td>\n",
       "      <td>0</td>\n",
       "      <td>26990</td>\n",
       "    </tr>\n",
       "    <tr>\n",
       "      <th>1334</th>\n",
       "      <td>18</td>\n",
       "      <td>female</td>\n",
       "      <td>no</td>\n",
       "      <td>northeast</td>\n",
       "      <td>10.64</td>\n",
       "      <td>0</td>\n",
       "      <td>5515</td>\n",
       "    </tr>\n",
       "    <tr>\n",
       "      <th>1335</th>\n",
       "      <td>18</td>\n",
       "      <td>female</td>\n",
       "      <td>no</td>\n",
       "      <td>southeast</td>\n",
       "      <td>12.28</td>\n",
       "      <td>0</td>\n",
       "      <td>4075</td>\n",
       "    </tr>\n",
       "    <tr>\n",
       "      <th>1336</th>\n",
       "      <td>21</td>\n",
       "      <td>female</td>\n",
       "      <td>no</td>\n",
       "      <td>southwest</td>\n",
       "      <td>8.60</td>\n",
       "      <td>0</td>\n",
       "      <td>5020</td>\n",
       "    </tr>\n",
       "    <tr>\n",
       "      <th>1337</th>\n",
       "      <td>61</td>\n",
       "      <td>female</td>\n",
       "      <td>yes</td>\n",
       "      <td>northwest</td>\n",
       "      <td>9.69</td>\n",
       "      <td>0</td>\n",
       "      <td>72853</td>\n",
       "    </tr>\n",
       "  </tbody>\n",
       "</table>\n",
       "<p>566 rows × 7 columns</p>\n",
       "</div>"
      ],
      "text/plain": [
       "      age     sex smoker     region  viral load  severity level  \\\n",
       "0      19  female    yes  southwest        9.30               0   \n",
       "5      31  female     no  southeast        8.58               0   \n",
       "6      46  female     no  southeast       11.15               1   \n",
       "9      60  female     no  northwest        8.61               0   \n",
       "11     62  female    yes  southeast        8.76               0   \n",
       "...   ...     ...    ...        ...         ...             ...   \n",
       "1331   23  female     no  southwest       11.13               0   \n",
       "1334   18  female     no  northeast       10.64               0   \n",
       "1335   18  female     no  southeast       12.28               0   \n",
       "1336   21  female     no  southwest        8.60               0   \n",
       "1337   61  female    yes  northwest        9.69               0   \n",
       "\n",
       "      hospitalization charges  \n",
       "0                       42212  \n",
       "5                        9392  \n",
       "6                       20601  \n",
       "9                       72308  \n",
       "11                      69522  \n",
       "...                       ...  \n",
       "1331                    26990  \n",
       "1334                     5515  \n",
       "1335                     4075  \n",
       "1336                     5020  \n",
       "1337                    72853  \n",
       "\n",
       "[566 rows x 7 columns]"
      ]
     },
     "execution_count": 68,
     "metadata": {},
     "output_type": "execute_result"
    }
   ],
   "source": [
    "df2"
   ]
  },
  {
   "cell_type": "code",
   "execution_count": 84,
   "id": "0f6848bf",
   "metadata": {},
   "outputs": [
    {
     "data": {
      "text/plain": [
       "severity level\n",
       "0    AxesSubplot(0.125,0.125;0.775x0.755)\n",
       "1    AxesSubplot(0.125,0.125;0.775x0.755)\n",
       "2    AxesSubplot(0.125,0.125;0.775x0.755)\n",
       "3    AxesSubplot(0.125,0.125;0.775x0.755)\n",
       "4    AxesSubplot(0.125,0.125;0.775x0.755)\n",
       "5    AxesSubplot(0.125,0.125;0.775x0.755)\n",
       "Name: viral load, dtype: object"
      ]
     },
     "execution_count": 84,
     "metadata": {},
     "output_type": "execute_result"
    },
    {
     "data": {
      "image/png": "[encoded data removed]",
      "text/plain": [
       "<Figure size 432x288 with 1 Axes>"
      ]
     },
     "metadata": {
      "needs_background": "light"
     },
     "output_type": "display_data"
    }
   ],
   "source": [
    "df.groupby('severity level')['viral load'].plot(kind='kde')"
   ]
  },
  {
   "cell_type": "code",
   "execution_count": 75,
   "id": "d9ba1345",
   "metadata": {},
   "outputs": [
    {
     "data": {
      "text/plain": [
       "<AxesSubplot:>"
      ]
     },
     "execution_count": 75,
     "metadata": {},
     "output_type": "execute_result"
    },
    {
     "data": {
      "image/png": "[encoded data removed]",
      "text/plain": [
       "<Figure size 432x288 with 1 Axes>"
      ]
     },
     "metadata": {
      "needs_background": "light"
     },
     "output_type": "display_data"
    }
   ],
   "source": [
    "df2[\"severity level\"].value_counts().plot(kind = \"bar\")"
   ]
  },
  {
   "cell_type": "code",
   "execution_count": 88,
   "id": "07479d2d",
   "metadata": {},
   "outputs": [],
   "source": [
    "cat_1 = df2.loc[df2['severity level'] == 0]['viral load'].values\n",
    "cat_2 = df2.loc[df2['severity level'] == 1]['viral load'].values\n",
    "cat_3 = df2.loc[df2['severity level'] == 2]['viral load'].values\n",
    "# cat_4 = df.loc[df['weather'] == 4]['count'].values\n",
    "# f_oneway(cat_1, cat_2, cat_3, cat_4)"
   ]
  },
  {
   "cell_type": "code",
   "execution_count": 89,
   "id": "2c353742",
   "metadata": {},
   "outputs": [
    {
     "data": {
      "text/plain": [
       "F_onewayResult(statistic=0.3355061434584082, pvalue=0.7151189650367746)"
      ]
     },
     "execution_count": 89,
     "metadata": {},
     "output_type": "execute_result"
    }
   ],
   "source": [
    "f_oneway(cat_1, cat_2, cat_3)"
   ]
  },
  {
   "cell_type": "code",
   "execution_count": 93,
   "id": "8ebf91fe",
   "metadata": {},
   "outputs": [
    {
     "name": "stdout",
     "output_type": "stream",
     "text": [
      "Accept Ho, there is similarity in means of three viral load of women with 0 Severity level , 1 Severity level, and 2 Severity level.\n"
     ]
    }
   ],
   "source": [
    "pvalue= 0.7151189650367746\n",
    "alpha = 0.05\n",
    "if pvalue < alpha:\n",
    "    print(\"Reject Ho, there is no similarity in means of three viral load of women with 0 Severity level , 1 Severity level, and 2 Severity level.\")\n",
    "else:\n",
    "    print(\"Accept Ho, there is similarity in means of three viral load of women with 0 Severity level , 1 Severity level, and 2 Severity level.\")"
   ]
  },
  {
   "cell_type": "markdown",
   "id": "c34bf32e",
   "metadata": {},
   "source": [
    "Similarity in means of viral load of women with 0 Severity level , 1 Severity level, and 2 Severity level.\n",
    "### Test Observation and Conlusion\n",
    "\n",
    ">> there is similarity in means of three viral load of women with 0 Severity level , 1 Severity level, and 2 Severity level.\n",
    "\n",
    ">> We cannot rely on viral load to be decisive in identifying the severity of the female patients with severity 0, 1, 2. and must identify a better parameter to relate the sevrity"
   ]
  },
  {
   "cell_type": "markdown",
   "id": "0e88ccec",
   "metadata": {},
   "source": [
    "==================================================================================================================="
   ]
  },
  {
   "cell_type": "markdown",
   "id": "a80b17b5",
   "metadata": {},
   "source": [
    "## 3. T Test two tailed\n",
    "\n",
    "### Prove (or disprove) with statistical evidence that the viral load of females is different from that of males (T-test Two tailed)"
   ]
  },
  {
   "cell_type": "markdown",
   "id": "5cfc1d47",
   "metadata": {},
   "source": [
    "Null Hypothesis Ho\n",
    "\n",
    "> gender does not have an effect on viral load\n",
    "\n",
    "Alternate Hypothesis\n",
    "\n",
    "> There is significant effect of gender on viral load"
   ]
  },
  {
   "cell_type": "code",
   "execution_count": 100,
   "id": "88ef2e3d",
   "metadata": {},
   "outputs": [
    {
     "data": {
      "text/html": [
       "<div>\n",
       "<style scoped>\n",
       "    .dataframe tbody tr th:only-of-type {\n",
       "        vertical-align: middle;\n",
       "    }\n",
       "\n",
       "    .dataframe tbody tr th {\n",
       "        vertical-align: top;\n",
       "    }\n",
       "\n",
       "    .dataframe thead th {\n",
       "        text-align: right;\n",
       "    }\n",
       "</style>\n",
       "<table border=\"1\" class=\"dataframe\">\n",
       "  <thead>\n",
       "    <tr style=\"text-align: right;\">\n",
       "      <th></th>\n",
       "      <th>count</th>\n",
       "      <th>mean</th>\n",
       "      <th>std</th>\n",
       "      <th>min</th>\n",
       "      <th>25%</th>\n",
       "      <th>50%</th>\n",
       "      <th>75%</th>\n",
       "      <th>max</th>\n",
       "    </tr>\n",
       "    <tr>\n",
       "      <th>sex</th>\n",
       "      <th></th>\n",
       "      <th></th>\n",
       "      <th></th>\n",
       "      <th></th>\n",
       "      <th></th>\n",
       "      <th></th>\n",
       "      <th></th>\n",
       "      <th></th>\n",
       "    </tr>\n",
       "  </thead>\n",
       "  <tbody>\n",
       "    <tr>\n",
       "      <th>female</th>\n",
       "      <td>662.0</td>\n",
       "      <td>10.126073</td>\n",
       "      <td>2.015402</td>\n",
       "      <td>5.60</td>\n",
       "      <td>8.71</td>\n",
       "      <td>10.035</td>\n",
       "      <td>11.4375</td>\n",
       "      <td>16.02</td>\n",
       "    </tr>\n",
       "    <tr>\n",
       "      <th>male</th>\n",
       "      <td>676.0</td>\n",
       "      <td>10.314423</td>\n",
       "      <td>2.046889</td>\n",
       "      <td>5.32</td>\n",
       "      <td>8.80</td>\n",
       "      <td>10.230</td>\n",
       "      <td>11.6625</td>\n",
       "      <td>17.71</td>\n",
       "    </tr>\n",
       "  </tbody>\n",
       "</table>\n",
       "</div>"
      ],
      "text/plain": [
       "        count       mean       std   min   25%     50%      75%    max\n",
       "sex                                                                   \n",
       "female  662.0  10.126073  2.015402  5.60  8.71  10.035  11.4375  16.02\n",
       "male    676.0  10.314423  2.046889  5.32  8.80  10.230  11.6625  17.71"
      ]
     },
     "execution_count": 100,
     "metadata": {},
     "output_type": "execute_result"
    }
   ],
   "source": [
    "df.groupby(\"sex\")[\"viral load\"].describe()"
   ]
  },
  {
   "cell_type": "code",
   "execution_count": 98,
   "id": "7975c374",
   "metadata": {},
   "outputs": [],
   "source": [
    "male_sample = df[df['sex'] == 'male']['viral load'].sample(650)\n",
    "female_sample = df[df['sex'] == 'female']['viral load'].sample(650)"
   ]
  },
  {
   "cell_type": "code",
   "execution_count": 107,
   "id": "63368963",
   "metadata": {},
   "outputs": [],
   "source": [
    "from scipy.stats import ttest_ind\n",
    "import scipy.stats as stats\n",
    "\n",
    "\n",
    "teststats, p_val = ttest_ind(male_sample, female_sample, equal_var=True)"
   ]
  },
  {
   "cell_type": "code",
   "execution_count": 108,
   "id": "0bb96a54",
   "metadata": {},
   "outputs": [
    {
     "name": "stdout",
     "output_type": "stream",
     "text": [
      "1.584514362225864\n",
      "0.11332030427660632\n"
     ]
    }
   ],
   "source": [
    "print(teststats)\n",
    "print(p_val)"
   ]
  },
  {
   "cell_type": "code",
   "execution_count": 109,
   "id": "3b638b6c",
   "metadata": {},
   "outputs": [
    {
     "data": {
      "text/plain": [
       "Ttest_indResult(statistic=1.5725598107894014, pvalue=0.11606448548088064)"
      ]
     },
     "execution_count": 109,
     "metadata": {},
     "output_type": "execute_result"
    }
   ],
   "source": [
    "stats.ttest_ind(a=(np.log(male_sample)), b=(np.log(female_sample)), equal_var=True)"
   ]
  },
  {
   "cell_type": "code",
   "execution_count": 154,
   "id": "da9ddadc",
   "metadata": {},
   "outputs": [
    {
     "name": "stdout",
     "output_type": "stream",
     "text": [
      "Accept Ho, fail to reject the null hypothesis\n"
     ]
    }
   ],
   "source": [
    "alpha = 0.05\n",
    "p_val = 0.11606\n",
    "if p_val < alpha:\n",
    "    print(\"Reject Ho. Accept Ha\")\n",
    "else:\n",
    "    \n",
    "    print(\"Accept Ho, fail to reject the null hypothesis\")"
   ]
  },
  {
   "cell_type": "markdown",
   "id": "b58a22da",
   "metadata": {},
   "source": [
    "### Test Observation and Conlusion\n",
    "\n",
    ">> gender does not have an effect on viral load.\n",
    ">> Viral load seems to be independent of gender and affecting males and females in similar way"
   ]
  },
  {
   "cell_type": "markdown",
   "id": "a784c734",
   "metadata": {},
   "source": [
    "======================================================================================================================"
   ]
  },
  {
   "cell_type": "markdown",
   "id": "2ae7edda",
   "metadata": {},
   "source": [
    "## Test 4.\n",
    "\n",
    "\n",
    "Prove (or disprove) that the hospitalization of people who do smoking is greater than those who don't? (T-test Right tailed)"
   ]
  },
  {
   "cell_type": "markdown",
   "id": "a088bb6a",
   "metadata": {},
   "source": [
    "Assumption: As only \"Hospitaization\" is mentioned  we will take hospitalization charges to identify if there is any difference\n",
    "\n",
    "Prove (or disprove) that the hospitalization charges of people who do smoking are greater than those who don't?"
   ]
  },
  {
   "cell_type": "code",
   "execution_count": null,
   "id": "77c6bf50",
   "metadata": {},
   "outputs": [],
   "source": []
  },
  {
   "cell_type": "markdown",
   "id": "e9ff35ff",
   "metadata": {},
   "source": [
    "* Mean sample Hospitalization charges of people smoking is 80125.57\n",
    "\n",
    "* Mean sample Hospitalization charges of people not smoking is 21085.67"
   ]
  },
  {
   "cell_type": "markdown",
   "id": "40c5ae3f",
   "metadata": {},
   "source": [
    "Null Hypothesis Ho\n",
    "\n",
    "> The hospitalization charges of people smoking is less than or equal to mean of 80125.57 : <= 80125.57\n",
    "\n",
    "Alternate Hypothesis H1\n",
    "\n",
    "> The hospitalization charges of people smoking is more than 80125.57 : > 80125.57\n",
    "\n",
    "      The population mean is greater than 80125.57 "
   ]
  },
  {
   "cell_type": "code",
   "execution_count": 110,
   "id": "573faf1b",
   "metadata": {},
   "outputs": [
    {
     "data": {
      "text/plain": [
       "no     1064\n",
       "yes     274\n",
       "Name: smoker, dtype: int64"
      ]
     },
     "execution_count": 110,
     "metadata": {},
     "output_type": "execute_result"
    }
   ],
   "source": [
    "df[\"smoker\"].value_counts()"
   ]
  },
  {
   "cell_type": "code",
   "execution_count": 114,
   "id": "82d2e0a5",
   "metadata": {},
   "outputs": [
    {
     "data": {
      "text/html": [
       "<div>\n",
       "<style scoped>\n",
       "    .dataframe tbody tr th:only-of-type {\n",
       "        vertical-align: middle;\n",
       "    }\n",
       "\n",
       "    .dataframe tbody tr th {\n",
       "        vertical-align: top;\n",
       "    }\n",
       "\n",
       "    .dataframe thead th {\n",
       "        text-align: right;\n",
       "    }\n",
       "</style>\n",
       "<table border=\"1\" class=\"dataframe\">\n",
       "  <thead>\n",
       "    <tr style=\"text-align: right;\">\n",
       "      <th></th>\n",
       "      <th>count</th>\n",
       "      <th>mean</th>\n",
       "      <th>std</th>\n",
       "      <th>min</th>\n",
       "      <th>25%</th>\n",
       "      <th>50%</th>\n",
       "      <th>75%</th>\n",
       "      <th>max</th>\n",
       "    </tr>\n",
       "    <tr>\n",
       "      <th>smoker</th>\n",
       "      <th></th>\n",
       "      <th></th>\n",
       "      <th></th>\n",
       "      <th></th>\n",
       "      <th></th>\n",
       "      <th></th>\n",
       "      <th></th>\n",
       "      <th></th>\n",
       "    </tr>\n",
       "  </thead>\n",
       "  <tbody>\n",
       "    <tr>\n",
       "      <th>no</th>\n",
       "      <td>1064.0</td>\n",
       "      <td>21085.675752</td>\n",
       "      <td>14984.455500</td>\n",
       "      <td>2805.0</td>\n",
       "      <td>9966.25</td>\n",
       "      <td>18363.5</td>\n",
       "      <td>28407.25</td>\n",
       "      <td>92277.0</td>\n",
       "    </tr>\n",
       "    <tr>\n",
       "      <th>yes</th>\n",
       "      <td>274.0</td>\n",
       "      <td>80125.572993</td>\n",
       "      <td>28853.891137</td>\n",
       "      <td>32074.0</td>\n",
       "      <td>52065.50</td>\n",
       "      <td>86141.0</td>\n",
       "      <td>102548.25</td>\n",
       "      <td>159426.0</td>\n",
       "    </tr>\n",
       "  </tbody>\n",
       "</table>\n",
       "</div>"
      ],
      "text/plain": [
       "         count          mean           std      min       25%      50%  \\\n",
       "smoker                                                                   \n",
       "no      1064.0  21085.675752  14984.455500   2805.0   9966.25  18363.5   \n",
       "yes      274.0  80125.572993  28853.891137  32074.0  52065.50  86141.0   \n",
       "\n",
       "              75%       max  \n",
       "smoker                       \n",
       "no       28407.25   92277.0  \n",
       "yes     102548.25  159426.0  "
      ]
     },
     "execution_count": 114,
     "metadata": {},
     "output_type": "execute_result"
    }
   ],
   "source": [
    "df.groupby(\"smoker\")[\"hospitalization charges\"].describe()"
   ]
  },
  {
   "cell_type": "code",
   "execution_count": null,
   "id": "e55f0628",
   "metadata": {},
   "outputs": [],
   "source": []
  },
  {
   "cell_type": "code",
   "execution_count": 118,
   "id": "3ef7b6bf",
   "metadata": {},
   "outputs": [],
   "source": [
    "df_smoker = df[df[\"smoker\"] == \"yes\"]"
   ]
  },
  {
   "cell_type": "code",
   "execution_count": 120,
   "id": "1d832e5c",
   "metadata": {},
   "outputs": [
    {
     "data": {
      "text/plain": [
       "80125.57299270073"
      ]
     },
     "execution_count": 120,
     "metadata": {},
     "output_type": "execute_result"
    }
   ],
   "source": [
    "df_smoker[\"hospitalization charges\"].mean()"
   ]
  },
  {
   "cell_type": "code",
   "execution_count": 121,
   "id": "ad4a8ba6",
   "metadata": {},
   "outputs": [],
   "source": [
    "df_non_smoker = df[df[\"smoker\"] == \"no\"]"
   ]
  },
  {
   "cell_type": "code",
   "execution_count": 122,
   "id": "4b0fea4d",
   "metadata": {},
   "outputs": [
    {
     "data": {
      "text/plain": [
       "21085.6757518797"
      ]
     },
     "execution_count": 122,
     "metadata": {},
     "output_type": "execute_result"
    }
   ],
   "source": [
    "df_non_smoker[\"hospitalization charges\"].mean()"
   ]
  },
  {
   "cell_type": "code",
   "execution_count": 158,
   "id": "8a3e26bf",
   "metadata": {},
   "outputs": [
    {
     "data": {
      "text/plain": [
       "33176.058295964125"
      ]
     },
     "execution_count": 158,
     "metadata": {},
     "output_type": "execute_result"
    }
   ],
   "source": [
    "df[\"hospitalization charges\"].mean()"
   ]
  },
  {
   "cell_type": "code",
   "execution_count": 127,
   "id": "fbc02e9a",
   "metadata": {},
   "outputs": [
    {
     "name": "stdout",
     "output_type": "stream",
     "text": [
      "1.7168572298682636e-06 0.9999986313999911\n"
     ]
    }
   ],
   "source": [
    "# perform one sample t-test\n",
    "t_statistic, p_value = stats.ttest_1samp(a=df_smoker[\"hospitalization charges\"], popmean=80125.57)\n",
    "print(t_statistic , p_value)"
   ]
  },
  {
   "cell_type": "code",
   "execution_count": 156,
   "id": "0323b979",
   "metadata": {},
   "outputs": [
    {
     "name": "stdout",
     "output_type": "stream",
     "text": [
      "Accept Ho, fail to reject the null hypothesis\n"
     ]
    }
   ],
   "source": [
    "alpha = 0.05\n",
    "p_val = 0.999\n",
    "if p_val < alpha:\n",
    "    print(\"Reject Ho. Accept Ha\")\n",
    "else:\n",
    "    \n",
    "    print(\"Accept Ho, fail to reject the null hypothesis\")"
   ]
  },
  {
   "cell_type": "markdown",
   "id": "6875949e",
   "metadata": {},
   "source": [
    "### Test Observation and Conlusion\n",
    "\n",
    ">> Smokers have higher hospitalization charges than sample mean .\n"
   ]
  },
  {
   "cell_type": "markdown",
   "id": "fa9df4bb",
   "metadata": {},
   "source": [
    "### Insights and Recommendation\n",
    "> Hospitalization charges for smokers are higher than non smokers as smoking might result in underlying health complications\n",
    "\n",
    "> Viral load seems to be independent of gender and affecting males and females in similar way\n",
    "\n",
    "> We cannot rely on viral load to be decisive in identifying the severity of the female patients with severity 0, 1, 2. and must identify a better parameter to relate the sevrity\n",
    "\n",
    "> Proportion of smoking is same across different regions of Delhi There is no difference in smoking patterns in different regions of Delhi\n",
    "\n",
    "> Hospitalization charges are very linear for age groups\n",
    "\n",
    "### Recommendations\n",
    "\n",
    "> Raise health awareness among smokers for healthy life choices as they are spending significantly more money in hospitalization \n",
    "\n",
    "> Need to identify parameters leading severity ( high) among patients viral load cannot be considered.\n",
    "\n",
    "> As viral load is independent of gender, everyone must adopt strict covid protocols\n",
    "\n",
    "> Ideal for smokers to have health coverage\n",
    "\n",
    "> people in age group of 60s are at most vulnerable and have most hospitalization charges"
   ]
  },
  {
   "cell_type": "code",
   "execution_count": null,
   "id": "9d051a11",
   "metadata": {},
   "outputs": [],
   "source": []
  }
 ],
 "metadata": {
  "kernelspec": {
   "display_name": "Python 3 (ipykernel)",
   "language": "python",
   "name": "python3"
  },
  "language_info": {
   "codemirror_mode": {
    "name": "ipython",
    "version": 3
   },
   "file_extension": ".py",
   "mimetype": "text/x-python",
   "name": "python",
   "nbconvert_exporter": "python",
   "pygments_lexer": "ipython3",
   "version": "3.9.7"
  }
 },
 "nbformat": 4,
 "nbformat_minor": 5
}
